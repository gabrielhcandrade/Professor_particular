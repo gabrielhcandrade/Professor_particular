{
  "nbformat": 4,
  "nbformat_minor": 0,
  "metadata": {
    "colab": {
      "provenance": [],
      "authorship_tag": "ABX9TyP6Jr81HcHFMxVtdZdi1uYm",
      "include_colab_link": true
    },
    "kernelspec": {
      "name": "python3",
      "display_name": "Python 3"
    },
    "language_info": {
      "name": "python"
    }
  },
  "cells": [
    {
      "cell_type": "markdown",
      "metadata": {
        "id": "view-in-github",
        "colab_type": "text"
      },
      "source": [
        "<a href=\"https://colab.research.google.com/github/gabrielhcandrade/Professor_particular/blob/main/Professor_Particular.ipynb\" target=\"_parent\"><img src=\"https://colab.research.google.com/assets/colab-badge.svg\" alt=\"Open In Colab\"/></a>"
      ]
    },
    {
      "cell_type": "code",
      "source": [
        "!pip install -q -U google-generativeai"
      ],
      "metadata": {
        "id": "lP0XWnU0lZOr"
      },
      "execution_count": 3,
      "outputs": []
    },
    {
      "cell_type": "code",
      "source": [
        "import google.generativeai as genai\n",
        "\n",
        "GOOGLE_API_KEY=\"Digite aqui sua api key\"\n",
        "genai.configure(api_key=GOOGLE_API_KEY)\n"
      ],
      "metadata": {
        "id": "mUdn3u1blehn"
      },
      "execution_count": 4,
      "outputs": []
    },
    {
      "cell_type": "code",
      "source": [
        "generation_config = {\n",
        "    \"candidate_count\":1,\n",
        "    \"temperature\": 0.5\n",
        "}"
      ],
      "metadata": {
        "id": "eyV4c-tolfNB"
      },
      "execution_count": 5,
      "outputs": []
    },
    {
      "cell_type": "code",
      "source": [
        "model = genai.GenerativeModel(model_name=\"gemini-1.0-pro\",\n",
        "                              generation_config=generation_config)"
      ],
      "metadata": {
        "id": "IxMUp5FXlkDK"
      },
      "execution_count": 6,
      "outputs": []
    },
    {
      "cell_type": "code",
      "source": [
        "import textwrap\n",
        "from IPython.display import display, Markdown\n",
        "import os\n",
        "\n",
        "# Inicializando as variáveis\n",
        "nome = input(\"Digite seu nome: \")\n",
        "materia = input(\"Digite a matéria que você deseja estudar: \")\n",
        "conteudoDisciplina = input(\"Conteúdo da Disciplina: \")\n",
        "ritmoEstudo = input(\"Qual seu ritmo de estudos? 'Avançado', 'Intermediário' ou 'Baixo': \")\n",
        "os.system('cls')\n",
        "\n",
        "# Mensagem de boas-vindas\n",
        "print(\"\\n\")\n",
        "print(f\"Olá {nome}.\")\n",
        "print(\"Seja bem-vindo ao seu Chatbot Professor Particular Personalizado! \")\n",
        "print(\"Sou um assistente virtual inteligente aqui para te ajudar a aprender de forma mais eficiente, personalizada e divertida.\")\n",
        "print(\"\\nLembre-se:\")\n",
        "print(\"Não tenha medo de errar. Erros fazem parte do processo de aprendizado e estou aqui para te ajudar a superá-los.\")\n",
        "print(\"\\n\")\n",
        "\n",
        "# Validação de entrada do ritmo de estudo\n",
        "ritmo_estudo_valido = False\n",
        "while not ritmo_estudo_valido:\n",
        "    if ritmoEstudo.lower() in [\"avançado\", \"intermediário\", \"baixo\"]:\n",
        "        ritmo_estudo_valido = True\n",
        "    else:\n",
        "        ritmoEstudo = input(\"Ritmo de estudo inválido. Digite novamente: 'Avançado', 'Intermediário' ou 'Baixo': \")\n",
        "\n",
        "# Definindo o prompt de acordo com o ritmo de estudo\n",
        "if ritmoEstudo.lower() == \"avançado\":\n",
        "    prompt = (\n",
        "        f\"Olá, me chamo {nome}, quero estudar a matéria de {materia}, com o conteúdo {conteudoDisciplina}, no nível Avançado. \",\n",
        "        \"Formule um plano de estudos personalizado, com materiais complementares, exemplos práticos e fontes de estudo como livros e videoaulas. \"\n",
        "    )\n",
        "elif ritmoEstudo.lower() == \"intermediário\":\n",
        "    prompt = (\n",
        "        f\"Olá, me chamo {nome}, quero estudar a matéria de {materia}, com o conteúdo {conteudoDisciplina}, no nível Intermediário. \",\n",
        "        \"Formule um plano de estudos personalizado, com materiais complementares, exemplos práticos e fontes de estudo como livros e videoaulas. \"\n",
        "    )\n",
        "else:\n",
        "    prompt = (\n",
        "        f\"Olá, me chamo {nome}, quero estudar a matéria de {materia}, com o conteúdo {conteudoDisciplina}, no nível Básico. \",\n",
        "        \"Formule um plano de estudos personalizado, com materiais complementares, exemplos práticos e fontes de estudo como livros e videoaulas. \"\n",
        "    )\n",
        "\n",
        "response = model.generate_content(prompt)\n",
        "print(response.text)\n",
        "\n",
        "prompt =(f\"Formule uma pergunta fechada, de múltipla escola com quatro alternativas (A, B, C, D), sendo de {ritmoEstudo} nível sobre {conteudoDisciplina}. Não me mostre a resposta, porem a alternativa A deve ser a resposta correta\")\n",
        "pergunta = model.generate_content(prompt)\n",
        "print(pergunta.text)\n",
        "\n",
        "resposta_usuario = input(\"Resposta: \")\n",
        "if resposta_usuario == 'A':\n",
        "  print(\"Parabéns! Você acertou!\")\n",
        "  chat = model.start_chat(history=[])\n",
        "  while prompt != \"fim\":\n",
        "    response = chat.send_message(prompt)\n",
        "    print(\"Resposta: \", response.text, \"\\n\")\n",
        "    prompt = input(\"Para sair digite 'fim' para continuar digite a resposta correta da pergunta acima: \")\n",
        "else:\n",
        "  print(\"Que pena, a resposta correta era A.\")\n",
        "  chat = model.start_chat(history=[])\n",
        "  while prompt != \"fim\":\n",
        "    response = chat.send_message(prompt)\n",
        "    print(\"Resposta: \", response.text, \"\\n\")\n",
        "    prompt = input(\"Para sair digite 'fim' ou para continuar digite 'me faça outra pergunta sobre o tem': \")\n",
        "\n"
      ],
      "metadata": {
        "colab": {
          "base_uri": "https://localhost:8080/",
          "height": 1000
        },
        "id": "_1pNfcoPl3SO",
        "outputId": "d1a45857-3770-4bde-d5fd-ec0066f1d23b"
      },
      "execution_count": 45,
      "outputs": [
        {
          "name": "stdout",
          "output_type": "stream",
          "text": [
            "Digite seu nome: g\n",
            "Digite a matéria que você deseja estudar: historia\n",
            "Conteúdo da Disciplina: presidentes do brasil\n",
            "Qual seu ritmo de estudos? 'Avançado', 'Intermediário' ou 'Baixo': avançado\n",
            "\n",
            "\n",
            "Olá g.\n",
            "Seja bem-vindo ao seu Chatbot Professor Particular Personalizado! \n",
            "Sou um assistente virtual inteligente aqui para te ajudar a aprender de forma mais eficiente, personalizada e divertida.\n",
            "\n",
            "Lembre-se:\n",
            "Não tenha medo de errar. Erros fazem parte do processo de aprendizado e estou aqui para te ajudar a superá-los.\n",
            "\n",
            "\n",
            "**Plano de Estudos Personalizado: Presidentes do Brasil (Nível Avançado)**\n",
            "\n",
            "**Objetivo:** Aprofundar o conhecimento sobre os presidentes do Brasil, com ênfase em análises críticas e interpretações históricas.\n",
            "\n",
            "**Materiais Complementares:**\n",
            "\n",
            "* Documentos oficiais (leis, decretos, discursos)\n",
            "* Arquivos históricos e museus\n",
            "* Biografias e autobiografias de presidentes\n",
            "* Artigos acadêmicos e periódicos especializados\n",
            "\n",
            "**Exemplos Práticos:**\n",
            "\n",
            "* Análise comparativa dos mandatos de diferentes presidentes\n",
            "* Avaliação do impacto das políticas públicas implementadas\n",
            "* Investigação de controvérsias históricas envolvendo figuras presidenciais\n",
            "\n",
            "**Fontes de Estudo:**\n",
            "\n",
            "**Livros:**\n",
            "\n",
            "* **A Era Vargas: O Brasil de Getúlio Vargas 1930-1945** (Thomas Skidmore)\n",
            "* **Brasil: Uma Biografia** (Lilia Moritz Schwarcz)\n",
            "* **História do Brasil: Colônia, Império e República** (Boris Fausto)\n",
            "\n",
            "**Videoaulas:**\n",
            "\n",
            "* **História do Brasil: Os Presidentes da República** (Canal História)\n",
            "* **Aula Magna: Os Presidentes da República** (Universidade de São Paulo)\n",
            "* **Perspectivas Históricas: A Presidência no Brasil** (Fundação Getúlio Vargas)\n",
            "\n",
            "**Cronograma de Estudos:**\n",
            "\n",
            "**Mês 1:**\n",
            "\n",
            "* **Período Imperial:** Análise do Império e dos primeiros presidentes da República.\n",
            "* **República Velha:** Estudo da instabilidade política e econômica e do papel dos presidentes na manutenção da ordem.\n",
            "\n",
            "**Mês 2:**\n",
            "\n",
            "* **Era Vargas:** Investigação do Estado Novo e de sua influência no desenvolvimento político e econômico do Brasil.\n",
            "* **Populismo e Ditadura:** Exame do populismo de Getúlio Vargas e Juscelino Kubitschek e do regime militar de 1964-1985.\n",
            "\n",
            "**Mês 3:**\n",
            "\n",
            "* **Redemocratização e Presidencialismo:** Análise da transição para a democracia após a ditadura e do papel dos presidentes no processo.\n",
            "* **Era Lula e Dilma:** Estudo dos governos petistas e de suas políticas públicas e desafios.\n",
            "\n",
            "**Mês 4:**\n",
            "\n",
            "* **Brasil Contemporâneo:** Investigação da presidência de Jair Bolsonaro e dos desafios atuais enfrentados pelo país.\n",
            "* **Historiografia da Presidência:** Análise de diferentes interpretações históricas sobre os presidentes brasileiros.\n",
            "\n",
            "**Avaliação:**\n",
            "\n",
            "* Redação de um ensaio crítico sobre um tema específico relacionado aos presidentes do Brasil\n",
            "* Apresentação oral sobre os principais desafios enfrentados por um presidente brasileiro\n",
            "* Criação de um cronograma interativo destacando os principais eventos e figuras da história presidencial do Brasil\n",
            "Dos seguintes presidentes do Brasil, qual deles foi o primeiro a ser eleito após a redemocratização do país em 1985?\n",
            "\n",
            "A) José Sarney\n",
            "B) Fernando Henrique Cardoso\n",
            "C) Itamar Franco\n",
            "D) Fernando Collor de Mello\n",
            "Resposta: A\n",
            "Parabéns! Você acertou!\n",
            "Resposta:  Qual dos presidentes brasileiros foi o primeiro a ser deposto por impeachment?\n",
            "\n",
            "A) Collor\n",
            "B) Figueiredo\n",
            "C) Sarney\n",
            "D) Itamar Franco \n",
            "\n",
            "Para sair digite 'fim' para continuar digite a resposta correta da pergunta acima: A\n",
            "Resposta:  **Resposta correta:** A \n",
            "\n",
            "Para sair digite 'fim' para continuar digite a resposta correta da pergunta acima: fim\n"
          ]
        }
      ]
    }
  ]
}